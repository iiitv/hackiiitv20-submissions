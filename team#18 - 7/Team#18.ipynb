{
 "cells": [
  {
   "cell_type": "code",
   "execution_count": 2,
   "metadata": {},
   "outputs": [],
   "source": [
    "import pandas as pd\n",
    "import numpy as np\n",
    "import matplotlib.pyplot as plt\n",
    "import seaborn as sns\n",
    "import pprint\n",
    "from sklearn.preprocessing import MinMaxScaler\n",
    "from keras.models import Sequential\n",
    "from keras.layers.recurrent import LSTM\n",
    "from keras.layers.core import Dense, Dropout\n",
    "import datetime\n",
    "%matplotlib inline"
   ]
  },
  {
   "cell_type": "code",
   "execution_count": 3,
   "metadata": {},
   "outputs": [
    {
     "name": "stdout",
     "output_type": "stream",
     "text": [
      "==================================================\n",
      "First Five Rows  \n",
      "\n",
      "              Datetime   AEP_MW\n",
      "0  2004-12-31 01:00:00  13478.0\n",
      "1  2004-12-31 02:00:00  12865.0 \n",
      "\n",
      "==================================================\n",
      "Information About Dataset \n",
      "\n",
      "<class 'pandas.core.frame.DataFrame'>\n",
      "RangeIndex: 121273 entries, 0 to 121272\n",
      "Data columns (total 2 columns):\n",
      " #   Column    Non-Null Count   Dtype  \n",
      "---  ------    --------------   -----  \n",
      " 0   Datetime  121273 non-null  object \n",
      " 1   AEP_MW    121273 non-null  float64\n",
      "dtypes: float64(1), object(1)\n",
      "memory usage: 1.9+ MB\n",
      "None \n",
      "\n",
      "==================================================\n",
      "Describe the Dataset  \n",
      "\n",
      "              AEP_MW\n",
      "count  121273.000000\n",
      "mean    15499.513717\n",
      "std      2591.399065\n",
      "min      9581.000000\n",
      "25%     13630.000000\n",
      "50%     15310.000000\n",
      "75%     17200.000000\n",
      "max     25695.000000 \n",
      "\n",
      "==================================================\n",
      "Null Values t  \n",
      "\n",
      "Datetime    0\n",
      "AEP_MW      0\n",
      "dtype: int64 \n",
      "\n"
     ]
    }
   ],
   "source": [
    "df = pd.read_csv(\"AEP_hourly.csv\")\n",
    "print(\"=\"*50)\n",
    "print(\"First Five Rows \",\"\\n\")\n",
    "print(df.head(2),\"\\n\")\n",
    "\n",
    "print(\"=\"*50)\n",
    "print(\"Information About Dataset\",\"\\n\")\n",
    "print(df.info(),\"\\n\")\n",
    "\n",
    "print(\"=\"*50)\n",
    "print(\"Describe the Dataset \",\"\\n\")\n",
    "print(df.describe(),\"\\n\")\n",
    "\n",
    "print(\"=\"*50)\n",
    "print(\"Null Values t \",\"\\n\")\n",
    "print(df.isnull().sum(),\"\\n\")"
   ]
  },
  {
   "cell_type": "code",
   "execution_count": 4,
   "metadata": {},
   "outputs": [
    {
     "name": "stderr",
     "output_type": "stream",
     "text": [
      "<ipython-input-4-71cefd3f5679>:7: FutureWarning: Series.dt.weekofyear and Series.dt.week have been deprecated.  Please use Series.dt.isocalendar().week instead.\n",
      "  dataset[\"Week\"] = pd.to_datetime(df[\"Datetime\"]).dt.week\n"
     ]
    },
    {
     "data": {
      "text/html": [
       "<div>\n",
       "<style scoped>\n",
       "    .dataframe tbody tr th:only-of-type {\n",
       "        vertical-align: middle;\n",
       "    }\n",
       "\n",
       "    .dataframe tbody tr th {\n",
       "        vertical-align: top;\n",
       "    }\n",
       "\n",
       "    .dataframe thead th {\n",
       "        text-align: right;\n",
       "    }\n",
       "</style>\n",
       "<table border=\"1\" class=\"dataframe\">\n",
       "  <thead>\n",
       "    <tr style=\"text-align: right;\">\n",
       "      <th></th>\n",
       "      <th>AEP_MW</th>\n",
       "      <th>Month</th>\n",
       "      <th>Year</th>\n",
       "      <th>Date</th>\n",
       "      <th>Time</th>\n",
       "      <th>Week</th>\n",
       "      <th>Day</th>\n",
       "    </tr>\n",
       "    <tr>\n",
       "      <th>Datetime</th>\n",
       "      <th></th>\n",
       "      <th></th>\n",
       "      <th></th>\n",
       "      <th></th>\n",
       "      <th></th>\n",
       "      <th></th>\n",
       "      <th></th>\n",
       "    </tr>\n",
       "  </thead>\n",
       "  <tbody>\n",
       "    <tr>\n",
       "      <th>2004-12-31 01:00:00</th>\n",
       "      <td>13478.0</td>\n",
       "      <td>12</td>\n",
       "      <td>2004</td>\n",
       "      <td>2004-12-31</td>\n",
       "      <td>01:00:00</td>\n",
       "      <td>53</td>\n",
       "      <td>Friday</td>\n",
       "    </tr>\n",
       "  </tbody>\n",
       "</table>\n",
       "</div>"
      ],
      "text/plain": [
       "                      AEP_MW  Month  Year        Date      Time  Week     Day\n",
       "Datetime                                                                     \n",
       "2004-12-31 01:00:00  13478.0     12  2004  2004-12-31  01:00:00    53  Friday"
      ]
     },
     "execution_count": 4,
     "metadata": {},
     "output_type": "execute_result"
    }
   ],
   "source": [
    "# Extract all Data Like Year MOnth Day Time etc\n",
    "dataset = df\n",
    "dataset[\"Month\"] = pd.to_datetime(df[\"Datetime\"]).dt.month\n",
    "dataset[\"Year\"] = pd.to_datetime(df[\"Datetime\"]).dt.year\n",
    "dataset[\"Date\"] = pd.to_datetime(df[\"Datetime\"]).dt.date\n",
    "dataset[\"Time\"] = pd.to_datetime(df[\"Datetime\"]).dt.time\n",
    "dataset[\"Week\"] = pd.to_datetime(df[\"Datetime\"]).dt.week\n",
    "dataset[\"Day\"] = pd.to_datetime(df[\"Datetime\"]).dt.day_name()\n",
    "dataset = df.set_index(\"Datetime\")\n",
    "dataset.index = pd.to_datetime(dataset.index)\n",
    "dataset.head(1)"
   ]
  },
  {
   "cell_type": "code",
   "execution_count": 5,
   "metadata": {},
   "outputs": [
    {
     "name": "stdout",
     "output_type": "stream",
     "text": [
      "[2004 2005 2006 2007 2008 2009 2010 2011 2012 2013 2014 2015 2016 2017\n",
      " 2018] \n",
      "\n",
      "Total Number of Unique Year 15 \n",
      "\n"
     ]
    }
   ],
   "source": [
    "# How many Unique Year do we Have in Dataset \n",
    "print(df.Year.unique(),\"\\n\")\n",
    "print(\"Total Number of Unique Year\", df.Year.nunique(), \"\\n\")"
   ]
  },
  {
   "cell_type": "code",
   "execution_count": 6,
   "metadata": {},
   "outputs": [
    {
     "name": "stderr",
     "output_type": "stream",
     "text": [
      "No handles with labels found to put in legend.\n"
     ]
    },
    {
     "data": {
      "text/plain": [
       "Text(0.5, 1.0, 'Energy Consumption According to Year')"
      ]
     },
     "execution_count": 6,
     "metadata": {},
     "output_type": "execute_result"
    },
    {
     "data": {
      "image/png": "[encoded data removed]",
      "text/plain": [
       "<Figure size 432x288 with 1 Axes>"
      ]
     },
     "metadata": {
      "needs_background": "light"
     },
     "output_type": "display_data"
    }
   ],
   "source": [
    "from matplotlib import style\n",
    "\n",
    "fig = plt.figure()\n",
    "ax1 = plt.subplot2grid((1,1), (0,0))\n",
    "\n",
    "style.use('ggplot')\n",
    "\n",
    "sns.lineplot(x=dataset[\"Year\"], y=dataset[\"AEP_MW\"], data=df)\n",
    "sns.set(rc={'figure.figsize':(15,6)})\n",
    "\n",
    "plt.title(\"Energy consumptionnin Year 2004\")\n",
    "plt.xlabel(\"Date\")\n",
    "plt.ylabel(\"Energy in MW\")\n",
    "plt.grid(True)\n",
    "plt.legend()\n",
    "\n",
    "for label in ax1.xaxis.get_ticklabels():\n",
    "    label.set_rotation(90)\n",
    "\n",
    "\n",
    "plt.title(\"Energy Consumption According to Year\")"
   ]
  },
  {
   "cell_type": "code",
   "execution_count": 7,
   "metadata": {},
   "outputs": [],
   "source": [
    "# from matplotlib import style\n",
    "\n",
    "\n",
    "# fig = plt.figure()\n",
    "\n",
    "# ax1= fig.add_subplot(311)\n",
    "# ax2= fig.add_subplot(312)\n",
    "# ax3= fig.add_subplot(313)\n",
    "\n",
    "\n",
    "# style.use('ggplot')\n",
    "\n",
    "# y_2004 = dataset[\"2004\"][\"AEP_MW\"].to_list()\n",
    "# x_2004 = dataset[\"2004\"][\"Date\"].to_list()\n",
    "# ax1.plot(x_2004,y_2004, color=\"green\", linewidth=1.7)\n",
    "\n",
    "\n",
    "# y_2005 = dataset[\"2005\"][\"AEP_MW\"].to_list()\n",
    "# x_2005 = dataset[\"2005\"][\"Date\"].to_list()\n",
    "# ax2.plot(x_2005, y_2005, color=\"green\", linewidth=1)\n",
    "\n",
    "\n",
    "# y_2006 = dataset[\"2006\"][\"AEP_MW\"].to_list()\n",
    "# x_2006 = dataset[\"2006\"][\"Date\"].to_list()\n",
    "# ax3.plot(x_2006, y_2006, color=\"green\", linewidth=1)\n",
    "\n",
    "\n",
    "# plt.rcParams[\"figure.figsize\"] = (18,8)\n",
    "# plt.title(\"Energy consumptionnin\")\n",
    "# plt.xlabel(\"Date\")\n",
    "# plt.ylabel(\"Energy in MW\")\n",
    "# plt.grid(True, alpha=1)\n",
    "# plt.legend()\n",
    "\n",
    "# for label in ax1.xaxis.get_ticklabels():\n",
    "#     label.set_rotation(90)"
   ]
  },
  {
   "cell_type": "code",
   "execution_count": 8,
   "metadata": {},
   "outputs": [
    {
     "name": "stderr",
     "output_type": "stream",
     "text": [
      "C:\\Users\\jahna\\anaconda3\\lib\\site-packages\\seaborn\\distributions.py:2551: FutureWarning: `distplot` is a deprecated function and will be removed in a future version. Please adapt your code to use either `displot` (a figure-level function with similar flexibility) or `histplot` (an axes-level function for histograms).\n",
      "  warnings.warn(msg, FutureWarning)\n"
     ]
    },
    {
     "data": {
      "text/plain": [
       "Text(0.5, 1.0, 'Ennergy Distribution')"
      ]
     },
     "execution_count": 8,
     "metadata": {},
     "output_type": "execute_result"
    },
    {
     "data": {
      "image/png": "[encoded data removed]",
      "text/plain": [
       "<Figure size 1080x432 with 1 Axes>"
      ]
     },
     "metadata": {},
     "output_type": "display_data"
    }
   ],
   "source": [
    "sns.distplot(dataset[\"AEP_MW\"])\n",
    "plt.title(\"Ennergy Distribution\")"
   ]
  },
  {
   "cell_type": "code",
   "execution_count": 9,
   "metadata": {},
   "outputs": [],
   "source": [
    "# fig = plt.figure()\n",
    "# ax1= fig.add_subplot(111)\n",
    "\n",
    "# sns.lineplot(x=dataset[\"Time\"],y=dataset[\"AEP_MW\"], data=df)\n",
    "# plt.title(\"Energy Consumption vs Time \")\n",
    "# plt.xlabel(\"Time\")\n",
    "# plt.grid(True, alpha=1)\n",
    "# plt.legend()\n",
    "\n",
    "# for label in ax1.xaxis.get_ticklabels():\n",
    "#     label.set_rotation(90)"
   ]
  },
  {
   "cell_type": "code",
   "execution_count": 10,
   "metadata": {},
   "outputs": [],
   "source": [
    "NewDataSet = dataset.resample('D').mean()"
   ]
  },
  {
   "cell_type": "code",
   "execution_count": 11,
   "metadata": {},
   "outputs": [
    {
     "name": "stdout",
     "output_type": "stream",
     "text": [
      "Old Dataset  (121273, 7)\n",
      "New  Dataset  (5055, 4)\n"
     ]
    }
   ],
   "source": [
    "print(\"Old Dataset \",dataset.shape )\n",
    "print(\"New  Dataset \",NewDataSet.shape )"
   ]
  },
  {
   "cell_type": "code",
   "execution_count": 12,
   "metadata": {},
   "outputs": [],
   "source": [
    "TestData = NewDataSet.tail(100)\n",
    "\n",
    "Training_Set = NewDataSet.iloc[:,0:1]\n",
    "\n",
    "Training_Set = Training_Set[:-60]"
   ]
  },
  {
   "cell_type": "code",
   "execution_count": 13,
   "metadata": {},
   "outputs": [
    {
     "name": "stdout",
     "output_type": "stream",
     "text": [
      "Training Set Shape  (4995, 1)\n",
      "Test Set Shape  (100, 4)\n"
     ]
    }
   ],
   "source": [
    "print(\"Training Set Shape \", Training_Set.shape)\n",
    "print(\"Test Set Shape \", TestData.shape)"
   ]
  },
  {
   "cell_type": "code",
   "execution_count": 14,
   "metadata": {},
   "outputs": [],
   "source": [
    "Training_Set = Training_Set.values\n",
    "sc = MinMaxScaler(feature_range=(0, 1))\n",
    "Train = sc.fit_transform(Training_Set)"
   ]
  },
  {
   "cell_type": "code",
   "execution_count": 15,
   "metadata": {},
   "outputs": [
    {
     "name": "stdout",
     "output_type": "stream",
     "text": [
      "(4935, 60, 1)\n",
      "(4935, 1)\n"
     ]
    }
   ],
   "source": [
    "X_Train = []\n",
    "Y_Train = []\n",
    "\n",
    "# Range should be fromm 60 Values to END \n",
    "for i in range(60, Train.shape[0]):\n",
    "    \n",
    "    # X_Train 0-59 \n",
    "    X_Train.append(Train[i-60:i])\n",
    "    \n",
    "    # Y Would be 60 th Value based on past 60 Values \n",
    "    Y_Train.append(Train[i])\n",
    "\n",
    "# Convert into Numpy Array\n",
    "X_Train = np.array(X_Train)\n",
    "Y_Train = np.array(Y_Train)\n",
    "\n",
    "print(X_Train.shape)\n",
    "print(Y_Train.shape)"
   ]
  },
  {
   "cell_type": "code",
   "execution_count": 16,
   "metadata": {},
   "outputs": [
    {
     "data": {
      "text/plain": [
       "(4935, 60, 1)"
      ]
     },
     "execution_count": 16,
     "metadata": {},
     "output_type": "execute_result"
    }
   ],
   "source": [
    "# Shape should be Number of [Datapoints , Steps , 1 )\n",
    "# we convert into 3-d Vector or #rd Dimesnsion\n",
    "X_Train = np.reshape(X_Train, newshape=(X_Train.shape[0], X_Train.shape[1], 1))\n",
    "X_Train.shape"
   ]
  },
  {
   "cell_type": "code",
   "execution_count": 17,
   "metadata": {},
   "outputs": [],
   "source": [
    "regressor = Sequential()\n",
    "\n",
    "# Adding the first LSTM layer and some Dropout regularisation\n",
    "regressor.add(LSTM(units = 50, return_sequences = True, input_shape = (X_Train.shape[1], 1)))\n",
    "regressor.add(Dropout(0.2))\n",
    "\n",
    "# Adding a second LSTM layer and some Dropout regularisation\n",
    "regressor.add(LSTM(units = 50, return_sequences = True))\n",
    "regressor.add(Dropout(0.2))\n",
    "\n",
    "# Adding a third LSTM layer and some Dropout regularisation\n",
    "regressor.add(LSTM(units = 50, return_sequences = True))\n",
    "regressor.add(Dropout(0.2))\n",
    "\n",
    "# Adding a fourth LSTM layer and some Dropout regularisation\n",
    "regressor.add(LSTM(units = 50))\n",
    "regressor.add(Dropout(0.2))\n",
    "\n",
    "# Adding the output layer\n",
    "regressor.add(Dense(units = 1))\n",
    "\n",
    "# Compiling the RNN\n",
    "regressor.compile(optimizer = 'adam', loss = 'mean_squared_error')\n"
   ]
  },
  {
   "cell_type": "code",
   "execution_count": 18,
   "metadata": {},
   "outputs": [
    {
     "name": "stdout",
     "output_type": "stream",
     "text": [
      "Epoch 1/50\n",
      "155/155 [==============================] - 27s 171ms/step - loss: 0.0234\n",
      "Epoch 2/50\n",
      "155/155 [==============================] - 27s 173ms/step - loss: 0.0182\n",
      "Epoch 3/50\n",
      "155/155 [==============================] - 26s 165ms/step - loss: 0.0176\n",
      "Epoch 4/50\n",
      "155/155 [==============================] - 26s 166ms/step - loss: 0.0166\n",
      "Epoch 5/50\n",
      "155/155 [==============================] - 25s 162ms/step - loss: 0.0157\n",
      "Epoch 6/50\n",
      "155/155 [==============================] - 26s 165ms/step - loss: 0.01574s - loss: \n",
      "Epoch 7/50\n",
      "155/155 [==============================] - 28s 183ms/step - loss: 0.0151\n",
      "Epoch 8/50\n",
      "155/155 [==============================] - 27s 173ms/step - loss: 0.0139\n",
      "Epoch 9/50\n",
      "155/155 [==============================] - 26s 169ms/step - loss: 0.0123\n",
      "Epoch 10/50\n",
      "155/155 [==============================] - 23s 147ms/step - loss: 0.0104\n",
      "Epoch 11/50\n",
      "155/155 [==============================] - 23s 147ms/step - loss: 0.0095\n",
      "Epoch 12/50\n",
      "155/155 [==============================] - 23s 148ms/step - loss: 0.0088\n",
      "Epoch 13/50\n",
      "155/155 [==============================] - 24s 157ms/step - loss: 0.0084\n",
      "Epoch 14/50\n",
      "155/155 [==============================] - 26s 165ms/step - loss: 0.0077\n",
      "Epoch 15/50\n",
      "155/155 [==============================] - 29s 190ms/step - loss: 0.0079\n",
      "Epoch 16/50\n",
      "155/155 [==============================] - 27s 177ms/step - loss: 0.0074\n",
      "Epoch 17/50\n",
      "155/155 [==============================] - 23s 150ms/step - loss: 0.0072\n",
      "Epoch 18/50\n",
      "155/155 [==============================] - 29s 185ms/step - loss: 0.0073\n",
      "Epoch 19/50\n",
      "155/155 [==============================] - 27s 174ms/step - loss: 0.0070\n",
      "Epoch 20/50\n",
      "155/155 [==============================] - 26s 171ms/step - loss: 0.0065\n",
      "Epoch 21/50\n",
      "155/155 [==============================] - 26s 169ms/step - loss: 0.0063\n",
      "Epoch 22/50\n",
      "155/155 [==============================] - 33s 216ms/step - loss: 0.00561s - lo\n",
      "Epoch 23/50\n",
      "155/155 [==============================] - 26s 170ms/step - loss: 0.0057\n",
      "Epoch 24/50\n",
      "155/155 [==============================] - 23s 151ms/step - loss: 0.0055\n",
      "Epoch 25/50\n",
      "155/155 [==============================] - 22s 141ms/step - loss: 0.0052\n",
      "Epoch 26/50\n",
      "155/155 [==============================] - 22s 140ms/step - loss: 0.0051\n",
      "Epoch 27/50\n",
      "155/155 [==============================] - 27s 171ms/step - loss: 0.0051\n",
      "Epoch 28/50\n",
      "155/155 [==============================] - 24s 152ms/step - loss: 0.0049\n",
      "Epoch 29/50\n",
      "155/155 [==============================] - 21s 138ms/step - loss: 0.0049\n",
      "Epoch 30/50\n",
      "155/155 [==============================] - 21s 137ms/step - loss: 0.0049\n",
      "Epoch 31/50\n",
      "155/155 [==============================] - 21s 137ms/step - loss: 0.0047\n",
      "Epoch 32/50\n",
      "155/155 [==============================] - 22s 139ms/step - loss: 0.0048\n",
      "Epoch 33/50\n",
      "155/155 [==============================] - 21s 135ms/step - loss: 0.0047\n",
      "Epoch 34/50\n",
      "155/155 [==============================] - 21s 138ms/step - loss: 0.0047\n",
      "Epoch 35/50\n",
      "155/155 [==============================] - 22s 139ms/step - loss: 0.0048\n",
      "Epoch 36/50\n",
      "155/155 [==============================] - 21s 135ms/step - loss: 0.0046\n",
      "Epoch 37/50\n",
      "155/155 [==============================] - 21s 138ms/step - loss: 0.0045\n",
      "Epoch 38/50\n",
      "155/155 [==============================] - 22s 139ms/step - loss: 0.0047\n",
      "Epoch 39/50\n",
      "155/155 [==============================] - 21s 135ms/step - loss: 0.0046\n",
      "Epoch 40/50\n",
      "155/155 [==============================] - 21s 138ms/step - loss: 0.0045\n",
      "Epoch 41/50\n",
      "155/155 [==============================] - 22s 141ms/step - loss: 0.0046\n",
      "Epoch 42/50\n",
      "155/155 [==============================] - 24s 153ms/step - loss: 0.0045\n",
      "Epoch 43/50\n",
      "155/155 [==============================] - 20s 131ms/step - loss: 0.0044\n",
      "Epoch 44/50\n",
      "155/155 [==============================] - 21s 136ms/step - loss: 0.0044\n",
      "Epoch 45/50\n",
      "155/155 [==============================] - 21s 136ms/step - loss: 0.0044\n",
      "Epoch 46/50\n",
      "155/155 [==============================] - 21s 134ms/step - loss: 0.0044\n",
      "Epoch 47/50\n",
      "155/155 [==============================] - 21s 133ms/step - loss: 0.0044\n",
      "Epoch 48/50\n",
      "155/155 [==============================] - 21s 134ms/step - loss: 0.0042\n",
      "Epoch 49/50\n",
      "155/155 [==============================] - 21s 134ms/step - loss: 0.0042\n",
      "Epoch 50/50\n",
      "155/155 [==============================] - 21s 135ms/step - loss: 0.0042\n"
     ]
    },
    {
     "data": {
      "text/plain": [
       "<tensorflow.python.keras.callbacks.History at 0x1a706785220>"
      ]
     },
     "execution_count": 18,
     "metadata": {},
     "output_type": "execute_result"
    }
   ],
   "source": [
    "regressor.fit(X_Train, Y_Train, epochs = 50, batch_size = 32)"
   ]
  },
  {
   "cell_type": "code",
   "execution_count": 19,
   "metadata": {},
   "outputs": [
    {
     "data": {
      "text/html": [
       "<div>\n",
       "<style scoped>\n",
       "    .dataframe tbody tr th:only-of-type {\n",
       "        vertical-align: middle;\n",
       "    }\n",
       "\n",
       "    .dataframe tbody tr th {\n",
       "        vertical-align: top;\n",
       "    }\n",
       "\n",
       "    .dataframe thead th {\n",
       "        text-align: right;\n",
       "    }\n",
       "</style>\n",
       "<table border=\"1\" class=\"dataframe\">\n",
       "  <thead>\n",
       "    <tr style=\"text-align: right;\">\n",
       "      <th></th>\n",
       "      <th>AEP_MW</th>\n",
       "      <th>Month</th>\n",
       "      <th>Year</th>\n",
       "      <th>Week</th>\n",
       "    </tr>\n",
       "    <tr>\n",
       "      <th>Datetime</th>\n",
       "      <th></th>\n",
       "      <th></th>\n",
       "      <th></th>\n",
       "      <th></th>\n",
       "    </tr>\n",
       "  </thead>\n",
       "  <tbody>\n",
       "    <tr>\n",
       "      <th>2018-04-26</th>\n",
       "      <td>13157.791667</td>\n",
       "      <td>4</td>\n",
       "      <td>2018</td>\n",
       "      <td>17</td>\n",
       "    </tr>\n",
       "    <tr>\n",
       "      <th>2018-04-27</th>\n",
       "      <td>12964.000000</td>\n",
       "      <td>4</td>\n",
       "      <td>2018</td>\n",
       "      <td>17</td>\n",
       "    </tr>\n",
       "  </tbody>\n",
       "</table>\n",
       "</div>"
      ],
      "text/plain": [
       "                  AEP_MW  Month  Year  Week\n",
       "Datetime                                   \n",
       "2018-04-26  13157.791667      4  2018    17\n",
       "2018-04-27  12964.000000      4  2018    17"
      ]
     },
     "execution_count": 19,
     "metadata": {},
     "output_type": "execute_result"
    }
   ],
   "source": [
    "TestData.head(2)"
   ]
  },
  {
   "cell_type": "code",
   "execution_count": 20,
   "metadata": {},
   "outputs": [
    {
     "data": {
      "text/plain": [
       "(100, 4)"
      ]
     },
     "execution_count": 20,
     "metadata": {},
     "output_type": "execute_result"
    }
   ],
   "source": [
    "TestData.shape"
   ]
  },
  {
   "cell_type": "code",
   "execution_count": 21,
   "metadata": {},
   "outputs": [
    {
     "data": {
      "text/plain": [
       "(5055, 4)"
      ]
     },
     "execution_count": 21,
     "metadata": {},
     "output_type": "execute_result"
    }
   ],
   "source": [
    "NewDataSet.shape"
   ]
  },
  {
   "cell_type": "code",
   "execution_count": 22,
   "metadata": {},
   "outputs": [
    {
     "data": {
      "text/html": [
       "<div>\n",
       "<style scoped>\n",
       "    .dataframe tbody tr th:only-of-type {\n",
       "        vertical-align: middle;\n",
       "    }\n",
       "\n",
       "    .dataframe tbody tr th {\n",
       "        vertical-align: top;\n",
       "    }\n",
       "\n",
       "    .dataframe thead th {\n",
       "        text-align: right;\n",
       "    }\n",
       "</style>\n",
       "<table border=\"1\" class=\"dataframe\">\n",
       "  <thead>\n",
       "    <tr style=\"text-align: right;\">\n",
       "      <th></th>\n",
       "      <th>AEP_MW</th>\n",
       "    </tr>\n",
       "    <tr>\n",
       "      <th>Datetime</th>\n",
       "      <th></th>\n",
       "    </tr>\n",
       "  </thead>\n",
       "  <tbody>\n",
       "    <tr>\n",
       "      <th>2004-10-01</th>\n",
       "      <td>14284.521739</td>\n",
       "    </tr>\n",
       "    <tr>\n",
       "      <th>2004-10-02</th>\n",
       "      <td>12999.875000</td>\n",
       "    </tr>\n",
       "    <tr>\n",
       "      <th>2004-10-03</th>\n",
       "      <td>12227.083333</td>\n",
       "    </tr>\n",
       "    <tr>\n",
       "      <th>2004-10-04</th>\n",
       "      <td>14309.041667</td>\n",
       "    </tr>\n",
       "    <tr>\n",
       "      <th>2004-10-05</th>\n",
       "      <td>14439.708333</td>\n",
       "    </tr>\n",
       "    <tr>\n",
       "      <th>...</th>\n",
       "      <td>...</td>\n",
       "    </tr>\n",
       "    <tr>\n",
       "      <th>2018-07-30</th>\n",
       "      <td>15368.083333</td>\n",
       "    </tr>\n",
       "    <tr>\n",
       "      <th>2018-07-31</th>\n",
       "      <td>15180.291667</td>\n",
       "    </tr>\n",
       "    <tr>\n",
       "      <th>2018-08-01</th>\n",
       "      <td>15151.166667</td>\n",
       "    </tr>\n",
       "    <tr>\n",
       "      <th>2018-08-02</th>\n",
       "      <td>15687.666667</td>\n",
       "    </tr>\n",
       "    <tr>\n",
       "      <th>2018-08-03</th>\n",
       "      <td>14809.000000</td>\n",
       "    </tr>\n",
       "  </tbody>\n",
       "</table>\n",
       "<p>5155 rows × 1 columns</p>\n",
       "</div>"
      ],
      "text/plain": [
       "                  AEP_MW\n",
       "Datetime                \n",
       "2004-10-01  14284.521739\n",
       "2004-10-02  12999.875000\n",
       "2004-10-03  12227.083333\n",
       "2004-10-04  14309.041667\n",
       "2004-10-05  14439.708333\n",
       "...                  ...\n",
       "2018-07-30  15368.083333\n",
       "2018-07-31  15180.291667\n",
       "2018-08-01  15151.166667\n",
       "2018-08-02  15687.666667\n",
       "2018-08-03  14809.000000\n",
       "\n",
       "[5155 rows x 1 columns]"
      ]
     },
     "execution_count": 22,
     "metadata": {},
     "output_type": "execute_result"
    }
   ],
   "source": [
    "Df_Total = pd.concat((NewDataSet[[\"AEP_MW\"]], TestData[[\"AEP_MW\"]]), axis=0)\n",
    "Df_Total"
   ]
  },
  {
   "cell_type": "code",
   "execution_count": 23,
   "metadata": {},
   "outputs": [
    {
     "data": {
      "text/plain": [
       "(5155, 1)"
      ]
     },
     "execution_count": 23,
     "metadata": {},
     "output_type": "execute_result"
    }
   ],
   "source": [
    "Df_Total.shape"
   ]
  },
  {
   "cell_type": "code",
   "execution_count": 24,
   "metadata": {},
   "outputs": [
    {
     "data": {
      "text/plain": [
       "(160, 1)"
      ]
     },
     "execution_count": 24,
     "metadata": {},
     "output_type": "execute_result"
    }
   ],
   "source": [
    "inputs = Df_Total[len(Df_Total) - len(TestData) - 60:].values\n",
    "inputs.shape"
   ]
  },
  {
   "cell_type": "code",
   "execution_count": 25,
   "metadata": {},
   "outputs": [],
   "source": [
    "inputs = Df_Total[len(Df_Total) - len(TestData) - 60:].values\n",
    "\n",
    "# We need to Reshape\n",
    "inputs = inputs.reshape(-1,1)\n",
    "\n",
    "# Normalize the Dataset\n",
    "inputs = sc.transform(inputs)\n",
    "\n",
    "X_test = []\n",
    "for i in range(60, 160):\n",
    "    X_test.append(inputs[i-60:i])\n",
    "    \n",
    "# Convert into Numpy Array\n",
    "X_test = np.array(X_test)\n",
    "\n",
    "# Reshape before Passing to Network\n",
    "X_test = np.reshape(X_test, (X_test.shape[0], X_test.shape[1], 1))\n",
    "\n",
    "# Pass to Model \n",
    "predicted_stock_price = regressor.predict(X_test)\n",
    "\n",
    "# Do inverse Transformation to get Values \n",
    "predicted_stock_price = sc.inverse_transform(predicted_stock_price)\n"
   ]
  },
  {
   "cell_type": "code",
   "execution_count": 26,
   "metadata": {},
   "outputs": [],
   "source": [
    "True_MegaWatt = TestData[\"AEP_MW\"].to_list()\n",
    "Predicted_MegaWatt  = predicted_stock_price\n",
    "dates = TestData.index.to_list()"
   ]
  },
  {
   "cell_type": "code",
   "execution_count": 27,
   "metadata": {},
   "outputs": [],
   "source": [
    "Machine_Df = pd.DataFrame(data={\n",
    "    \"Date\":dates,\n",
    "    \"TrueMegaWatt\": True_MegaWatt,\n",
    "    \"PredictedMeagWatt\":[x[0] for x in Predicted_MegaWatt ]\n",
    "})"
   ]
  },
  {
   "cell_type": "code",
   "execution_count": 28,
   "metadata": {},
   "outputs": [
    {
     "data": {
      "text/html": [
       "<div>\n",
       "<style scoped>\n",
       "    .dataframe tbody tr th:only-of-type {\n",
       "        vertical-align: middle;\n",
       "    }\n",
       "\n",
       "    .dataframe tbody tr th {\n",
       "        vertical-align: top;\n",
       "    }\n",
       "\n",
       "    .dataframe thead th {\n",
       "        text-align: right;\n",
       "    }\n",
       "</style>\n",
       "<table border=\"1\" class=\"dataframe\">\n",
       "  <thead>\n",
       "    <tr style=\"text-align: right;\">\n",
       "      <th></th>\n",
       "      <th>Date</th>\n",
       "      <th>TrueMegaWatt</th>\n",
       "      <th>PredictedMeagWatt</th>\n",
       "    </tr>\n",
       "  </thead>\n",
       "  <tbody>\n",
       "    <tr>\n",
       "      <th>0</th>\n",
       "      <td>2018-04-26</td>\n",
       "      <td>13157.791667</td>\n",
       "      <td>13636.374023</td>\n",
       "    </tr>\n",
       "    <tr>\n",
       "      <th>1</th>\n",
       "      <td>2018-04-27</td>\n",
       "      <td>12964.000000</td>\n",
       "      <td>13470.775391</td>\n",
       "    </tr>\n",
       "    <tr>\n",
       "      <th>2</th>\n",
       "      <td>2018-04-28</td>\n",
       "      <td>12237.583333</td>\n",
       "      <td>14793.090820</td>\n",
       "    </tr>\n",
       "    <tr>\n",
       "      <th>3</th>\n",
       "      <td>2018-04-29</td>\n",
       "      <td>12156.791667</td>\n",
       "      <td>13426.840820</td>\n",
       "    </tr>\n",
       "    <tr>\n",
       "      <th>4</th>\n",
       "      <td>2018-04-30</td>\n",
       "      <td>13443.500000</td>\n",
       "      <td>13114.024414</td>\n",
       "    </tr>\n",
       "    <tr>\n",
       "      <th>...</th>\n",
       "      <td>...</td>\n",
       "      <td>...</td>\n",
       "      <td>...</td>\n",
       "    </tr>\n",
       "    <tr>\n",
       "      <th>95</th>\n",
       "      <td>2018-07-30</td>\n",
       "      <td>15368.083333</td>\n",
       "      <td>15538.978516</td>\n",
       "    </tr>\n",
       "    <tr>\n",
       "      <th>96</th>\n",
       "      <td>2018-07-31</td>\n",
       "      <td>15180.291667</td>\n",
       "      <td>15849.180664</td>\n",
       "    </tr>\n",
       "    <tr>\n",
       "      <th>97</th>\n",
       "      <td>2018-08-01</td>\n",
       "      <td>15151.166667</td>\n",
       "      <td>15187.882812</td>\n",
       "    </tr>\n",
       "    <tr>\n",
       "      <th>98</th>\n",
       "      <td>2018-08-02</td>\n",
       "      <td>15687.666667</td>\n",
       "      <td>15354.571289</td>\n",
       "    </tr>\n",
       "    <tr>\n",
       "      <th>99</th>\n",
       "      <td>2018-08-03</td>\n",
       "      <td>14809.000000</td>\n",
       "      <td>15365.652344</td>\n",
       "    </tr>\n",
       "  </tbody>\n",
       "</table>\n",
       "<p>100 rows × 3 columns</p>\n",
       "</div>"
      ],
      "text/plain": [
       "         Date  TrueMegaWatt  PredictedMeagWatt\n",
       "0  2018-04-26  13157.791667       13636.374023\n",
       "1  2018-04-27  12964.000000       13470.775391\n",
       "2  2018-04-28  12237.583333       14793.090820\n",
       "3  2018-04-29  12156.791667       13426.840820\n",
       "4  2018-04-30  13443.500000       13114.024414\n",
       "..        ...           ...                ...\n",
       "95 2018-07-30  15368.083333       15538.978516\n",
       "96 2018-07-31  15180.291667       15849.180664\n",
       "97 2018-08-01  15151.166667       15187.882812\n",
       "98 2018-08-02  15687.666667       15354.571289\n",
       "99 2018-08-03  14809.000000       15365.652344\n",
       "\n",
       "[100 rows x 3 columns]"
      ]
     },
     "execution_count": 28,
     "metadata": {},
     "output_type": "execute_result"
    }
   ],
   "source": [
    "Machine_Df"
   ]
  },
  {
   "cell_type": "code",
   "execution_count": 29,
   "metadata": {},
   "outputs": [],
   "source": [
    "True_MegaWatt = TestData[\"AEP_MW\"].to_list()\n",
    "Predicted_MegaWatt  = [x[0] for x in Predicted_MegaWatt ]\n",
    "dates = TestData.index.to_list()"
   ]
  },
  {
   "cell_type": "code",
   "execution_count": 35,
   "metadata": {},
   "outputs": [
    {
     "name": "stderr",
     "output_type": "stream",
     "text": [
      "No handles with labels found to put in legend.\n"
     ]
    },
    {
     "data": {
      "text/plain": [
       "<matplotlib.legend.Legend at 0x1a714dc0100>"
      ]
     },
     "execution_count": 35,
     "metadata": {},
     "output_type": "execute_result"
    },
    {
     "data": {
      "image/png": "[encoded data removed]",
      "text/plain": [
       "<Figure size 1080x432 with 1 Axes>"
      ]
     },
     "metadata": {},
     "output_type": "display_data"
    }
   ],
   "source": [
    "fig = plt.figure()\n",
    "\n",
    "ax1= fig.add_subplot(111)\n",
    "\n",
    "x = dates\n",
    "y = True_MegaWatt\n",
    "\n",
    "y1 = Predicted_MegaWatt\n",
    "\n",
    "Testing = Machine_Df\n",
    "Testing['Date'] = pd.to_datetime(Testing['Date'])\n",
    "Testing = Testing.set_index('Date')\n",
    "Testing = Testing.resample('MS').mean()\n",
    "temp = Testing['TrueMegaWatt'].values.tolist()\n",
    "temp2 = []\n",
    "for a in temp:\n",
    "    temp2.append(a)\n",
    "    temp2.append(a)\n",
    "    temp2.append(a)\n",
    "    temp2.append(a)\n",
    "    temp2.append(a)\n",
    "    temp2.append(a)\n",
    "    temp2.append(a)\n",
    "    temp2.append(a)\n",
    "    temp2.append(a)\n",
    "    temp2.append(a)\n",
    "    temp2.append(a)\n",
    "    temp2.append(a)\n",
    "    temp2.append(a)\n",
    "    temp2.append(a)\n",
    "    temp2.append(a)\n",
    "    temp2.append(a)\n",
    "    temp2.append(a)\n",
    "    temp2.append(a)\n",
    "    temp2.append(a)\n",
    "    temp2.append(a)\n",
    "\n",
    "plt.plot(x,y, color=\"green\")\n",
    "plt.plot(x,y1, color=\"red\")\n",
    "plt.plot(x, temp2, color=\"blue\")\n",
    "# beautify the x-labels\n",
    "plt.gcf().autofmt_xdate()\n",
    "plt.xlabel('Dates')\n",
    "plt.ylabel(\"Power in MW\")\n",
    "plt.title(\"Machine Learned the Pattern Predicting Future Values \")\n",
    "plt.legend()"
   ]
  },
  {
   "cell_type": "code",
   "execution_count": 36,
   "metadata": {},
   "outputs": [
    {
     "data": {
      "text/html": [
       "<div>\n",
       "<style scoped>\n",
       "    .dataframe tbody tr th:only-of-type {\n",
       "        vertical-align: middle;\n",
       "    }\n",
       "\n",
       "    .dataframe tbody tr th {\n",
       "        vertical-align: top;\n",
       "    }\n",
       "\n",
       "    .dataframe thead th {\n",
       "        text-align: right;\n",
       "    }\n",
       "</style>\n",
       "<table border=\"1\" class=\"dataframe\">\n",
       "  <thead>\n",
       "    <tr style=\"text-align: right;\">\n",
       "      <th></th>\n",
       "      <th>TrueMegaWatt</th>\n",
       "      <th>PredictedMeagWatt</th>\n",
       "    </tr>\n",
       "    <tr>\n",
       "      <th>Date</th>\n",
       "      <th></th>\n",
       "      <th></th>\n",
       "    </tr>\n",
       "  </thead>\n",
       "  <tbody>\n",
       "    <tr>\n",
       "      <th>2018-04-01</th>\n",
       "      <td>12791.933333</td>\n",
       "      <td>13688.221094</td>\n",
       "    </tr>\n",
       "    <tr>\n",
       "      <th>2018-05-01</th>\n",
       "      <td>14117.005376</td>\n",
       "      <td>14206.766444</td>\n",
       "    </tr>\n",
       "    <tr>\n",
       "      <th>2018-06-01</th>\n",
       "      <td>15305.250000</td>\n",
       "      <td>15391.093978</td>\n",
       "    </tr>\n",
       "    <tr>\n",
       "      <th>2018-07-01</th>\n",
       "      <td>15926.622312</td>\n",
       "      <td>16074.285849</td>\n",
       "    </tr>\n",
       "    <tr>\n",
       "      <th>2018-08-01</th>\n",
       "      <td>15215.944444</td>\n",
       "      <td>15302.702148</td>\n",
       "    </tr>\n",
       "  </tbody>\n",
       "</table>\n",
       "</div>"
      ],
      "text/plain": [
       "            TrueMegaWatt  PredictedMeagWatt\n",
       "Date                                       \n",
       "2018-04-01  12791.933333       13688.221094\n",
       "2018-05-01  14117.005376       14206.766444\n",
       "2018-06-01  15305.250000       15391.093978\n",
       "2018-07-01  15926.622312       16074.285849\n",
       "2018-08-01  15215.944444       15302.702148"
      ]
     },
     "execution_count": 36,
     "metadata": {},
     "output_type": "execute_result"
    }
   ],
   "source": [
    "baseprice = Machine_Df\n",
    "baseprice['Date'] = pd.to_datetime(baseprice['Date'])\n",
    "baseprice = baseprice.set_index('Date')\n",
    "baseprice = baseprice.resample('MS').mean()\n",
    "baseprice"
   ]
  },
  {
   "cell_type": "code",
   "execution_count": 50,
   "metadata": {},
   "outputs": [
    {
     "data": {
      "text/html": [
       "<div>\n",
       "<style scoped>\n",
       "    .dataframe tbody tr th:only-of-type {\n",
       "        vertical-align: middle;\n",
       "    }\n",
       "\n",
       "    .dataframe tbody tr th {\n",
       "        vertical-align: top;\n",
       "    }\n",
       "\n",
       "    .dataframe thead th {\n",
       "        text-align: right;\n",
       "    }\n",
       "</style>\n",
       "<table border=\"1\" class=\"dataframe\">\n",
       "  <thead>\n",
       "    <tr style=\"text-align: right;\">\n",
       "      <th></th>\n",
       "      <th>TrueMegaWatt</th>\n",
       "      <th>PredictedMeagWatt</th>\n",
       "    </tr>\n",
       "    <tr>\n",
       "      <th>Date</th>\n",
       "      <th></th>\n",
       "      <th></th>\n",
       "    </tr>\n",
       "  </thead>\n",
       "  <tbody>\n",
       "    <tr>\n",
       "      <th>2018-04-01</th>\n",
       "      <td>12791.933333</td>\n",
       "      <td>13688.221094</td>\n",
       "    </tr>\n",
       "    <tr>\n",
       "      <th>2018-05-01</th>\n",
       "      <td>14117.005376</td>\n",
       "      <td>14206.766444</td>\n",
       "    </tr>\n",
       "    <tr>\n",
       "      <th>2018-06-01</th>\n",
       "      <td>15305.250000</td>\n",
       "      <td>15391.093978</td>\n",
       "    </tr>\n",
       "    <tr>\n",
       "      <th>2018-07-01</th>\n",
       "      <td>15926.622312</td>\n",
       "      <td>16074.285849</td>\n",
       "    </tr>\n",
       "    <tr>\n",
       "      <th>2018-08-01</th>\n",
       "      <td>15215.944444</td>\n",
       "      <td>15302.702148</td>\n",
       "    </tr>\n",
       "  </tbody>\n",
       "</table>\n",
       "</div>"
      ],
      "text/plain": [
       "            TrueMegaWatt  PredictedMeagWatt\n",
       "Date                                       \n",
       "2018-04-01  12791.933333       13688.221094\n",
       "2018-05-01  14117.005376       14206.766444\n",
       "2018-06-01  15305.250000       15391.093978\n",
       "2018-07-01  15926.622312       16074.285849\n",
       "2018-08-01  15215.944444       15302.702148"
      ]
     },
     "execution_count": 50,
     "metadata": {},
     "output_type": "execute_result"
    }
   ],
   "source": [
    "for a in range(0, 100):\n",
    "    if dates[a] < baseprice.at[0,'Date']:\n",
    "        base_price = baseprice['TrueMegaWatt'][0]\n",
    "    elif dates[a] < baseprice['Date'].values[1]:\n",
    "        base_price = baseprice['TrueMegaWatt'][1]\n",
    "    elif dates[a] < baseprice['Date'].values[2]:\n",
    "        base_price = baseprice['TrueMegaWatt'][2]\n",
    "    elif dates[a] < baseprice['Date'].values[3]:\n",
    "        base_price = baseprice['TrueMegaWatt'][3]\n",
    "    elif dates[a] < baseprice['Date'].values[4]:\n",
    "        base_price = baseprice['TrueMegaWatt'][4]\n",
    "\n",
    "print(base_price)"
   ]
  },
  {
   "cell_type": "code",
   "execution_count": null,
   "metadata": {},
   "outputs": [],
   "source": []
  },
  {
   "cell_type": "code",
   "execution_count": null,
   "metadata": {},
   "outputs": [],
   "source": []
  },
  {
   "cell_type": "code",
   "execution_count": null,
   "metadata": {},
   "outputs": [],
   "source": []
  }
 ],
 "metadata": {
  "kernelspec": {
   "display_name": "Python 3",
   "language": "python",
   "name": "python3"
  },
  "language_info": {
   "codemirror_mode": {
    "name": "ipython",
    "version": 3
   },
   "file_extension": ".py",
   "mimetype": "text/x-python",
   "name": "python",
   "nbconvert_exporter": "python",
   "pygments_lexer": "ipython3",
   "version": "3.8.5"
  }
 },
 "nbformat": 4,
 "nbformat_minor": 4
}
